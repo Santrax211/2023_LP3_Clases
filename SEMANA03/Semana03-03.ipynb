{
 "cells": [
  {
   "cell_type": "markdown",
   "id": "03f27bdf",
   "metadata": {},
   "source": [
    "# Semana03-03\n",
    "Samuel Talledo"
   ]
  },
  {
   "cell_type": "raw",
   "id": "ed566abf",
   "metadata": {},
   "source": [
    "Temas:\n",
    "    1. Números\n",
    "    2. Variables\n",
    "    3. Manejo de cadenas\n",
    "    4. Ingreso de datos por teclado\n",
    "    5. Operadores"
   ]
  },
  {
   "cell_type": "markdown",
   "id": "08910deb",
   "metadata": {},
   "source": [
    "3. Manejo de cadenas"
   ]
  },
  {
   "cell_type": "code",
   "execution_count": 1,
   "id": "278614bc",
   "metadata": {},
   "outputs": [
    {
     "data": {
      "text/plain": [
       "'Universidad Nacional Tecnológica de Lima Sur'"
      ]
     },
     "execution_count": 1,
     "metadata": {},
     "output_type": "execute_result"
    }
   ],
   "source": [
    "cadena = \"Universidad Nacional Tecnológica de Lima Sur\"\n",
    "cadena"
   ]
  },
  {
   "cell_type": "code",
   "execution_count": null,
   "id": "e7258bd3",
   "metadata": {},
   "outputs": [],
   "source": [
    "# Universidad Nacional Tecnológiuca de Lima Sur\n",
    "# 0123456789...................................\n",
    "# ...............................-7-6-5-4-3-2-1"
   ]
  },
  {
   "cell_type": "code",
   "execution_count": 2,
   "id": "aa02c423",
   "metadata": {},
   "outputs": [
    {
     "data": {
      "text/plain": [
       "'r'"
      ]
     },
     "execution_count": 2,
     "metadata": {},
     "output_type": "execute_result"
    }
   ],
   "source": [
    "cadena[5]"
   ]
  },
  {
   "cell_type": "code",
   "execution_count": 3,
   "id": "9a4e50ab",
   "metadata": {},
   "outputs": [
    {
     "data": {
      "text/plain": [
       "'T'"
      ]
     },
     "execution_count": 3,
     "metadata": {},
     "output_type": "execute_result"
    }
   ],
   "source": [
    "cadena[21]"
   ]
  },
  {
   "cell_type": "code",
   "execution_count": 4,
   "id": "714c0f87",
   "metadata": {},
   "outputs": [
    {
     "data": {
      "text/plain": [
       "'T'"
      ]
     },
     "execution_count": 4,
     "metadata": {},
     "output_type": "execute_result"
    }
   ],
   "source": [
    "cadena[-23]"
   ]
  },
  {
   "cell_type": "code",
   "execution_count": 5,
   "id": "6c468e47",
   "metadata": {},
   "outputs": [
    {
     "data": {
      "text/plain": [
       "' '"
      ]
     },
     "execution_count": 5,
     "metadata": {},
     "output_type": "execute_result"
    }
   ],
   "source": [
    "cadena[11]"
   ]
  },
  {
   "cell_type": "code",
   "execution_count": 7,
   "id": "ce9d90c5",
   "metadata": {},
   "outputs": [
    {
     "data": {
      "text/plain": [
       "'versi'"
      ]
     },
     "execution_count": 7,
     "metadata": {},
     "output_type": "execute_result"
    }
   ],
   "source": [
    "# Para mostrar una subcadena [desde, hasta una antes]\n",
    "# En java era substring()\n",
    "cadena [3:8]"
   ]
  },
  {
   "cell_type": "code",
   "execution_count": 8,
   "id": "8bea4fa4",
   "metadata": {},
   "outputs": [
    {
     "data": {
      "text/plain": [
       "44"
      ]
     },
     "execution_count": 8,
     "metadata": {},
     "output_type": "execute_result"
    }
   ],
   "source": [
    "# Para saber el tamaño de mi cadena utilizamos len()\n",
    "# Incluye espacios en blanco\n",
    "len(cadena)"
   ]
  },
  {
   "cell_type": "code",
   "execution_count": 10,
   "id": "76c73e30",
   "metadata": {},
   "outputs": [
    {
     "data": {
      "text/plain": [
       "'UNIVERSIDAD NACIONAL TECNOLÓGICA DE LIMA SUR'"
      ]
     },
     "execution_count": 10,
     "metadata": {},
     "output_type": "execute_result"
    }
   ],
   "source": [
    "# Mostrar una cadena con mayusculas upper()\n",
    "cadena.upper()"
   ]
  },
  {
   "cell_type": "code",
   "execution_count": 11,
   "id": "3ca0661d",
   "metadata": {},
   "outputs": [
    {
     "data": {
      "text/plain": [
       "'universidad nacional tecnológica de lima sur'"
      ]
     },
     "execution_count": 11,
     "metadata": {},
     "output_type": "execute_result"
    }
   ],
   "source": [
    "#Mostrar una cadena con minusculas lower()\n",
    "cadena.lower()"
   ]
  },
  {
   "cell_type": "code",
   "execution_count": 12,
   "id": "12856fcb",
   "metadata": {},
   "outputs": [
    {
     "data": {
      "text/plain": [
       "['Universidad', 'Nacional', 'Tecnológica', 'de', 'Lima', 'Sur']"
      ]
     },
     "execution_count": 12,
     "metadata": {},
     "output_type": "execute_result"
    }
   ],
   "source": [
    "# Generar una lista a partir de la cadena.split()\n",
    "cadena.split()"
   ]
  },
  {
   "cell_type": "code",
   "execution_count": 13,
   "id": "9d9be20a",
   "metadata": {},
   "outputs": [
    {
     "data": {
      "text/plain": [
       "['U', 'iversidad Nacio', 'al Tec', 'ológica de Lima Sur']"
      ]
     },
     "execution_count": 13,
     "metadata": {},
     "output_type": "execute_result"
    }
   ],
   "source": [
    "# Generar una lista utilizando un criterio de separación a partir de una cadena.split\n",
    "# En este caso vamos a generar una lista de toda la cadena\n",
    "# Utilizando como criterio de separación la letra \"n\"\n",
    "cadena.split(\"n\")"
   ]
  },
  {
   "cell_type": "code",
   "execution_count": 14,
   "id": "4e16286f",
   "metadata": {},
   "outputs": [
    {
     "name": "stdout",
     "output_type": "stream",
     "text": [
      "Buenos días Elias Samuel Talledo Vega\n"
     ]
    }
   ],
   "source": [
    "# Forma clásica, concatenar con +\n",
    "nombre = \"Elias Samuel Talledo Vega\"\n",
    "print (\"Buenos días\" + \" \" + nombre)"
   ]
  },
  {
   "cell_type": "code",
   "execution_count": 15,
   "id": "1ea04e23",
   "metadata": {},
   "outputs": [
    {
     "name": "stdout",
     "output_type": "stream",
     "text": [
      "Hola Elias Samuel Talledo Vega ya se que tienes 20 años\n"
     ]
    }
   ],
   "source": [
    "# Utilizando el .format()\n",
    "nombre = \"Elias Samuel Talledo Vega\"\n",
    "edad = 20\n",
    "print (\"Hola {} ya se que tienes {} años\".format(nombre,edad))"
   ]
  },
  {
   "cell_type": "code",
   "execution_count": 16,
   "id": "d6ba7e35",
   "metadata": {},
   "outputs": [
    {
     "name": "stdout",
     "output_type": "stream",
     "text": [
      "10/3 es 3.3333333333333335\n",
      "10/3 es 3.33\n"
     ]
    }
   ],
   "source": [
    "# Dar formato a números con muchos decimales\n",
    "resultado = 10/3\n",
    "print(\"10/3 es {}\".format(resultado))\n",
    "print(\"10/3 es {r:1.2f}\".format(r=resultado))"
   ]
  },
  {
   "cell_type": "code",
   "execution_count": 20,
   "id": "341a2c12",
   "metadata": {},
   "outputs": [
    {
     "name": "stdout",
     "output_type": "stream",
     "text": [
      "Buenos días Urbi Huamani,ya que se que cumpliste 30 años\n"
     ]
    }
   ],
   "source": [
    "# Dar formato con f\n",
    "# La funcion f, esta disponible desde la version 3.6\n",
    "nombre = \"Urbi Huamani\"\n",
    "edad = 30\n",
    "print(f\"Buenos días {nombre},ya que se que cumpliste {edad} años\")"
   ]
  },
  {
   "cell_type": "code",
   "execution_count": 19,
   "id": "8be310ef",
   "metadata": {},
   "outputs": [
    {
     "name": "stdout",
     "output_type": "stream",
     "text": [
      "10/3\n"
     ]
    }
   ],
   "source": [
    "# Dar formato a numeros con muchos decimales con f\n",
    "resultado = 10/3\n",
    "print(f\"10/3\")"
   ]
  }
 ],
 "metadata": {
  "kernelspec": {
   "display_name": "Python 3 (ipykernel)",
   "language": "python",
   "name": "python3"
  },
  "language_info": {
   "codemirror_mode": {
    "name": "ipython",
    "version": 3
   },
   "file_extension": ".py",
   "mimetype": "text/x-python",
   "name": "python",
   "nbconvert_exporter": "python",
   "pygments_lexer": "ipython3",
   "version": "3.9.13"
  }
 },
 "nbformat": 4,
 "nbformat_minor": 5
}
